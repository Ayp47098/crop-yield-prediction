{
 "cells": [
  {
   "cell_type": "code",
   "execution_count": 1,
   "id": "35a479a1",
   "metadata": {
    "execution": {
     "iopub.execute_input": "2025-03-12T19:32:44.729809Z",
     "iopub.status.busy": "2025-03-12T19:32:44.729427Z",
     "iopub.status.idle": "2025-03-12T19:32:46.428103Z",
     "shell.execute_reply": "2025-03-12T19:32:46.426650Z",
     "shell.execute_reply.started": "2025-03-12T19:32:44.729782Z"
    },
    "trusted": true
   },
   "outputs": [],
   "source": [
    "import pandas as pd\n",
    "import numpy as np\n",
    "from sklearn.model_selection import train_test_split\n",
    "from sklearn.preprocessing import LabelEncoder, StandardScaler\n",
    "from sklearn.ensemble import RandomForestRegressor\n",
    "from sklearn.metrics import r2_score"
   ]
  },
  {
   "cell_type": "code",
   "execution_count": 2,
   "id": "296b22a4",
   "metadata": {
    "execution": {
     "iopub.execute_input": "2025-03-12T19:32:52.572433Z",
     "iopub.status.busy": "2025-03-12T19:32:52.571744Z",
     "iopub.status.idle": "2025-03-12T19:32:55.326860Z",
     "shell.execute_reply": "2025-03-12T19:32:55.325611Z",
     "shell.execute_reply.started": "2025-03-12T19:32:52.572395Z"
    },
    "trusted": true
   },
   "outputs": [],
   "source": [
    "df = pd.read_csv(\"D:/RBL PROJECT/crop_yield/crop_yield.csv\")"
   ]
  },
  {
   "cell_type": "code",
   "execution_count": 3,
   "id": "aab3eec3",
   "metadata": {
    "execution": {
     "iopub.execute_input": "2025-03-12T19:32:55.328657Z",
     "iopub.status.busy": "2025-03-12T19:32:55.328329Z",
     "iopub.status.idle": "2025-03-12T19:32:55.372320Z",
     "shell.execute_reply": "2025-03-12T19:32:55.370808Z",
     "shell.execute_reply.started": "2025-03-12T19:32:55.328628Z"
    },
    "trusted": true
   },
   "outputs": [
    {
     "data": {
      "text/html": [
       "<div>\n",
       "<style scoped>\n",
       "    .dataframe tbody tr th:only-of-type {\n",
       "        vertical-align: middle;\n",
       "    }\n",
       "\n",
       "    .dataframe tbody tr th {\n",
       "        vertical-align: top;\n",
       "    }\n",
       "\n",
       "    .dataframe thead th {\n",
       "        text-align: right;\n",
       "    }\n",
       "</style>\n",
       "<table border=\"1\" class=\"dataframe\">\n",
       "  <thead>\n",
       "    <tr style=\"text-align: right;\">\n",
       "      <th></th>\n",
       "      <th>Region</th>\n",
       "      <th>Soil_Type</th>\n",
       "      <th>Crop</th>\n",
       "      <th>Rainfall_mm</th>\n",
       "      <th>Temperature_Celsius</th>\n",
       "      <th>Fertilizer_Used</th>\n",
       "      <th>Irrigation_Used</th>\n",
       "      <th>Weather_Condition</th>\n",
       "      <th>Days_to_Harvest</th>\n",
       "      <th>Yield_tons_per_hectare</th>\n",
       "    </tr>\n",
       "  </thead>\n",
       "  <tbody>\n",
       "    <tr>\n",
       "      <th>0</th>\n",
       "      <td>West</td>\n",
       "      <td>Sandy</td>\n",
       "      <td>Cotton</td>\n",
       "      <td>897.077239</td>\n",
       "      <td>27.676966</td>\n",
       "      <td>False</td>\n",
       "      <td>True</td>\n",
       "      <td>Cloudy</td>\n",
       "      <td>122</td>\n",
       "      <td>6.555816</td>\n",
       "    </tr>\n",
       "    <tr>\n",
       "      <th>1</th>\n",
       "      <td>South</td>\n",
       "      <td>Clay</td>\n",
       "      <td>Rice</td>\n",
       "      <td>992.673282</td>\n",
       "      <td>18.026142</td>\n",
       "      <td>True</td>\n",
       "      <td>True</td>\n",
       "      <td>Rainy</td>\n",
       "      <td>140</td>\n",
       "      <td>8.527341</td>\n",
       "    </tr>\n",
       "    <tr>\n",
       "      <th>2</th>\n",
       "      <td>North</td>\n",
       "      <td>Loam</td>\n",
       "      <td>Barley</td>\n",
       "      <td>147.998025</td>\n",
       "      <td>29.794042</td>\n",
       "      <td>False</td>\n",
       "      <td>False</td>\n",
       "      <td>Sunny</td>\n",
       "      <td>106</td>\n",
       "      <td>1.127443</td>\n",
       "    </tr>\n",
       "    <tr>\n",
       "      <th>3</th>\n",
       "      <td>North</td>\n",
       "      <td>Sandy</td>\n",
       "      <td>Soybean</td>\n",
       "      <td>986.866331</td>\n",
       "      <td>16.644190</td>\n",
       "      <td>False</td>\n",
       "      <td>True</td>\n",
       "      <td>Rainy</td>\n",
       "      <td>146</td>\n",
       "      <td>6.517573</td>\n",
       "    </tr>\n",
       "    <tr>\n",
       "      <th>4</th>\n",
       "      <td>South</td>\n",
       "      <td>Silt</td>\n",
       "      <td>Wheat</td>\n",
       "      <td>730.379174</td>\n",
       "      <td>31.620687</td>\n",
       "      <td>True</td>\n",
       "      <td>True</td>\n",
       "      <td>Cloudy</td>\n",
       "      <td>110</td>\n",
       "      <td>7.248251</td>\n",
       "    </tr>\n",
       "  </tbody>\n",
       "</table>\n",
       "</div>"
      ],
      "text/plain": [
       "  Region Soil_Type     Crop  Rainfall_mm  Temperature_Celsius  \\\n",
       "0   West     Sandy   Cotton   897.077239            27.676966   \n",
       "1  South      Clay     Rice   992.673282            18.026142   \n",
       "2  North      Loam   Barley   147.998025            29.794042   \n",
       "3  North     Sandy  Soybean   986.866331            16.644190   \n",
       "4  South      Silt    Wheat   730.379174            31.620687   \n",
       "\n",
       "   Fertilizer_Used  Irrigation_Used Weather_Condition  Days_to_Harvest  \\\n",
       "0            False             True            Cloudy              122   \n",
       "1             True             True             Rainy              140   \n",
       "2            False            False             Sunny              106   \n",
       "3            False             True             Rainy              146   \n",
       "4             True             True            Cloudy              110   \n",
       "\n",
       "   Yield_tons_per_hectare  \n",
       "0                6.555816  \n",
       "1                8.527341  \n",
       "2                1.127443  \n",
       "3                6.517573  \n",
       "4                7.248251  "
      ]
     },
     "execution_count": 3,
     "metadata": {},
     "output_type": "execute_result"
    }
   ],
   "source": [
    "# Display the first few rows\n",
    "df.head()"
   ]
  },
  {
   "cell_type": "code",
   "execution_count": 4,
   "id": "bbb2ebd8",
   "metadata": {
    "execution": {
     "iopub.execute_input": "2025-03-12T19:33:02.778346Z",
     "iopub.status.busy": "2025-03-12T19:33:02.777912Z",
     "iopub.status.idle": "2025-03-12T19:33:02.831206Z",
     "shell.execute_reply": "2025-03-12T19:33:02.830128Z",
     "shell.execute_reply.started": "2025-03-12T19:33:02.778313Z"
    },
    "trusted": true
   },
   "outputs": [
    {
     "name": "stdout",
     "output_type": "stream",
     "text": [
      "       Region Soil_Type     Crop  Rainfall_mm  Temperature_Celsius  \\\n",
      "0        West     Sandy   Cotton       897.08                27.68   \n",
      "1       South      Clay     Rice       992.67                18.03   \n",
      "2       North      Loam   Barley       148.00                29.79   \n",
      "3       North     Sandy  Soybean       986.87                16.64   \n",
      "4       South      Silt    Wheat       730.38                31.62   \n",
      "...       ...       ...      ...          ...                  ...   \n",
      "999995   West      Silt     Rice       302.81                27.99   \n",
      "999996  South    Chalky   Barley       932.99                39.66   \n",
      "999997  North     Peaty   Cotton       867.36                24.37   \n",
      "999998   West      Silt    Wheat       492.81                33.05   \n",
      "999999   West     Sandy    Maize       180.94                27.30   \n",
      "\n",
      "        Fertilizer_Used  Irrigation_Used Weather_Condition  Days_to_Harvest  \\\n",
      "0                     0                1            Cloudy              122   \n",
      "1                     1                1             Rainy              140   \n",
      "2                     0                0             Sunny              106   \n",
      "3                     0                1             Rainy              146   \n",
      "4                     1                1            Cloudy              110   \n",
      "...                 ...              ...               ...              ...   \n",
      "999995                0                0             Sunny               76   \n",
      "999996                1                0             Rainy               93   \n",
      "999997                1                0            Cloudy              108   \n",
      "999998                0                0             Sunny              102   \n",
      "999999                1                0             Sunny               76   \n",
      "\n",
      "        Yield_tons_per_hectare  \n",
      "0                     6.555816  \n",
      "1                     8.527341  \n",
      "2                     1.127443  \n",
      "3                     6.517573  \n",
      "4                     7.248251  \n",
      "...                        ...  \n",
      "999995                1.347586  \n",
      "999996                7.311594  \n",
      "999997                5.763182  \n",
      "999998                2.070159  \n",
      "999999                2.937243  \n",
      "\n",
      "[1000000 rows x 10 columns]\n"
     ]
    }
   ],
   "source": [
    "# Rounding off to two decimal places\n",
    "df[\"Rainfall_mm\"] = df[\"Rainfall_mm\"].round(2)\n",
    "df[\"Temperature_Celsius\"] = df[\"Temperature_Celsius\"].round(2)\n",
    "\n",
    "\n",
    "# Converting boolean columns to 0 and 1\n",
    "df[\"Fertilizer_Used\"] = df[\"Fertilizer_Used\"].astype(int)\n",
    "df[\"Irrigation_Used\"] = df[\"Irrigation_Used\"].astype(int)\n",
    "\n",
    "print(df)\n"
   ]
  },
  {
   "cell_type": "code",
   "execution_count": 5,
   "id": "0f3910d5",
   "metadata": {
    "execution": {
     "iopub.execute_input": "2025-03-12T19:33:04.985385Z",
     "iopub.status.busy": "2025-03-12T19:33:04.984966Z",
     "iopub.status.idle": "2025-03-12T19:33:05.851210Z",
     "shell.execute_reply": "2025-03-12T19:33:05.850012Z",
     "shell.execute_reply.started": "2025-03-12T19:33:04.985350Z"
    },
    "trusted": true
   },
   "outputs": [],
   "source": [
    "# Encode categorical variables\n",
    "label_encoders = {}\n",
    "categorical_cols = [\"Region\", \"Soil_Type\", \"Crop\", \"Weather_Condition\"]\n",
    "for col in categorical_cols:\n",
    "    le = LabelEncoder()\n",
    "    df[col] = le.fit_transform(df[col])\n",
    "    label_encoders[col] = le"
   ]
  },
  {
   "cell_type": "code",
   "execution_count": 6,
   "id": "ed4e6b37",
   "metadata": {
    "execution": {
     "iopub.execute_input": "2025-03-12T19:33:07.707712Z",
     "iopub.status.busy": "2025-03-12T19:33:07.707305Z",
     "iopub.status.idle": "2025-03-12T19:33:07.783116Z",
     "shell.execute_reply": "2025-03-12T19:33:07.781665Z",
     "shell.execute_reply.started": "2025-03-12T19:33:07.707684Z"
    },
    "trusted": true
   },
   "outputs": [],
   "source": [
    "# Define features and target\n",
    "X = df.drop(columns=[\"Yield_tons_per_hectare\"])\n",
    "y = df[\"Yield_tons_per_hectare\"]\n"
   ]
  },
  {
   "cell_type": "code",
   "execution_count": 7,
   "id": "dd341409",
   "metadata": {
    "execution": {
     "iopub.execute_input": "2025-03-12T19:33:08.038179Z",
     "iopub.status.busy": "2025-03-12T19:33:08.037711Z",
     "iopub.status.idle": "2025-03-12T19:33:08.296948Z",
     "shell.execute_reply": "2025-03-12T19:33:08.295812Z",
     "shell.execute_reply.started": "2025-03-12T19:33:08.038146Z"
    },
    "trusted": true
   },
   "outputs": [],
   "source": [
    "# Standardize numerical features\n",
    "scaler = StandardScaler()\n",
    "X_scaled = scaler.fit_transform(X)"
   ]
  },
  {
   "cell_type": "code",
   "execution_count": 8,
   "id": "0943548c",
   "metadata": {
    "execution": {
     "iopub.execute_input": "2025-03-12T19:33:08.437442Z",
     "iopub.status.busy": "2025-03-12T19:33:08.437043Z",
     "iopub.status.idle": "2025-03-12T19:33:08.658983Z",
     "shell.execute_reply": "2025-03-12T19:33:08.657829Z",
     "shell.execute_reply.started": "2025-03-12T19:33:08.437410Z"
    },
    "trusted": true
   },
   "outputs": [],
   "source": [
    "# Split into training and testing sets\n",
    "X_train, X_test, y_train, y_test = train_test_split(X_scaled, y, test_size=0.2, random_state=42)"
   ]
  },
  {
   "cell_type": "code",
   "execution_count": 9,
   "id": "69657c3c",
   "metadata": {
    "execution": {
     "iopub.execute_input": "2025-03-12T19:33:11.048322Z",
     "iopub.status.busy": "2025-03-12T19:33:11.047849Z",
     "iopub.status.idle": "2025-03-12T19:42:32.745854Z",
     "shell.execute_reply": "2025-03-12T19:42:32.744674Z",
     "shell.execute_reply.started": "2025-03-12T19:33:11.048290Z"
    },
    "trusted": true
   },
   "outputs": [],
   "source": [
    "# Train Random Forest model\n",
    "rf_model = RandomForestRegressor(n_estimators=100, random_state=42)\n",
    "rf_model.fit(X_train, y_train)\n",
    "rf_preds = rf_model.predict(X_test)\n"
   ]
  },
  {
   "cell_type": "code",
   "execution_count": 10,
   "id": "2ab03a56",
   "metadata": {
    "execution": {
     "iopub.execute_input": "2025-03-12T19:43:58.153685Z",
     "iopub.status.busy": "2025-03-12T19:43:58.153175Z",
     "iopub.status.idle": "2025-03-12T19:43:58.165871Z",
     "shell.execute_reply": "2025-03-12T19:43:58.164422Z",
     "shell.execute_reply.started": "2025-03-12T19:43:58.153643Z"
    },
    "trusted": true
   },
   "outputs": [
    {
     "name": "stdout",
     "output_type": "stream",
     "text": [
      "Prediction accuracy: 90.73748654773166\n"
     ]
    }
   ],
   "source": [
    "# Evaluate model\n",
    "rf_r2 = r2_score(y_test, rf_preds)\n",
    "print(\"Prediction accuracy:\", rf_r2*100)\n"
   ]
  },
  {
   "cell_type": "code",
   "execution_count": 11,
   "id": "a9e55f91-d569-438c-998e-c7201f3b5345",
   "metadata": {
    "execution": {
     "iopub.execute_input": "2025-03-12T19:44:01.170851Z",
     "iopub.status.busy": "2025-03-12T19:44:01.170440Z",
     "iopub.status.idle": "2025-03-12T19:58:07.170556Z",
     "shell.execute_reply": "2025-03-12T19:58:07.169490Z",
     "shell.execute_reply.started": "2025-03-12T19:44:01.170826Z"
    },
    "trusted": true
   },
   "outputs": [
    {
     "data": {
      "text/plain": [
       "['random_forest_model.joblib']"
      ]
     },
     "execution_count": 11,
     "metadata": {},
     "output_type": "execute_result"
    }
   ],
   "source": [
    "import joblib\n",
    "\n",
    "# Save the trained model\n",
    "joblib.dump(rf_model, \"random_forest_model.joblib\",compress=9)"
   ]
  },
  {
   "cell_type": "code",
   "execution_count": 12,
   "id": "25b02ff1-d331-458b-bc0b-fb2aa23225c8",
   "metadata": {
    "execution": {
     "iopub.execute_input": "2025-03-12T20:12:54.830844Z",
     "iopub.status.busy": "2025-03-12T20:12:54.830273Z",
     "iopub.status.idle": "2025-03-12T20:12:54.836365Z",
     "shell.execute_reply": "2025-03-12T20:12:54.835119Z",
     "shell.execute_reply.started": "2025-03-12T20:12:54.830812Z"
    },
    "trusted": true
   },
   "outputs": [],
   "source": [
    "from IPython.display import FileLink"
   ]
  },
  {
   "cell_type": "code",
   "execution_count": 13,
   "id": "966d6924-0e87-4fdb-b32a-82181a11f9b5",
   "metadata": {
    "execution": {
     "iopub.execute_input": "2025-03-12T20:12:56.765668Z",
     "iopub.status.busy": "2025-03-12T20:12:56.765216Z",
     "iopub.status.idle": "2025-03-12T20:12:56.772692Z",
     "shell.execute_reply": "2025-03-12T20:12:56.771598Z",
     "shell.execute_reply.started": "2025-03-12T20:12:56.765634Z"
    },
    "trusted": true
   },
   "outputs": [
    {
     "data": {
      "text/html": [
       "<a href='random_forest_model.joblib' target='_blank'>random_forest_model.joblib</a><br>"
      ],
      "text/plain": [
       "d:\\RBL PROJECT\\Crop--Prediction-ML--main\\CP\\notebook\\random_forest_model.joblib"
      ]
     },
     "execution_count": 13,
     "metadata": {},
     "output_type": "execute_result"
    }
   ],
   "source": [
    "# Create a downloadable link\n",
    "FileLink(\"random_forest_model.joblib\")"
   ]
  },
  {
   "cell_type": "code",
   "execution_count": 14,
   "id": "65aa3589-2bc2-4831-b873-20b79be04009",
   "metadata": {
    "execution": {
     "iopub.execute_input": "2025-03-27T11:02:11.753630Z",
     "iopub.status.busy": "2025-03-27T11:02:11.753335Z",
     "iopub.status.idle": "2025-03-27T11:02:13.056274Z",
     "shell.execute_reply": "2025-03-27T11:02:13.055177Z",
     "shell.execute_reply.started": "2025-03-27T11:02:11.753603Z"
    },
    "trusted": true
   },
   "outputs": [
    {
     "name": "stdout",
     "output_type": "stream",
     "text": [
      "1.6.1\n"
     ]
    }
   ],
   "source": [
    "import sklearn\n",
    "print(sklearn.__version__)\n"
   ]
  },
  {
   "cell_type": "code",
   "execution_count": 15,
   "id": "b1dd5b0d-6347-4450-acd9-d51f4aef02f8",
   "metadata": {
    "execution": {
     "iopub.execute_input": "2025-03-27T14:27:18.305791Z",
     "iopub.status.busy": "2025-03-27T14:27:18.305493Z",
     "iopub.status.idle": "2025-03-27T14:27:21.330098Z",
     "shell.execute_reply": "2025-03-27T14:27:21.329014Z",
     "shell.execute_reply.started": "2025-03-27T14:27:18.305763Z"
    },
    "trusted": true
   },
   "outputs": [],
   "source": [
    "import xgboost"
   ]
  },
  {
   "cell_type": "code",
   "execution_count": 16,
   "id": "7f6114cc-9333-48c5-a538-19f2c7136957",
   "metadata": {
    "execution": {
     "iopub.execute_input": "2025-03-27T14:27:21.331579Z",
     "iopub.status.busy": "2025-03-27T14:27:21.331126Z",
     "iopub.status.idle": "2025-03-27T14:27:21.337422Z",
     "shell.execute_reply": "2025-03-27T14:27:21.336170Z",
     "shell.execute_reply.started": "2025-03-27T14:27:21.331538Z"
    },
    "trusted": true
   },
   "outputs": [
    {
     "name": "stdout",
     "output_type": "stream",
     "text": [
      "3.0.0\n"
     ]
    }
   ],
   "source": [
    "print(xgboost.__version__)"
   ]
  },
  {
   "cell_type": "code",
   "execution_count": null,
   "id": "b82c59ba-59f0-431f-8947-bba0ea16f9f3",
   "metadata": {
    "trusted": true
   },
   "outputs": [],
   "source": []
  }
 ],
 "metadata": {
  "kaggle": {
   "accelerator": "none",
   "dataSources": [
    {
     "datasetId": 6854225,
     "sourceId": 11009402,
     "sourceType": "datasetVersion"
    }
   ],
   "dockerImageVersionId": 30918,
   "isGpuEnabled": false,
   "isInternetEnabled": true,
   "language": "python",
   "sourceType": "notebook"
  },
  "kernelspec": {
   "display_name": "Python 3",
   "language": "python",
   "name": "python3"
  },
  "language_info": {
   "codemirror_mode": {
    "name": "ipython",
    "version": 3
   },
   "file_extension": ".py",
   "mimetype": "text/x-python",
   "name": "python",
   "nbconvert_exporter": "python",
   "pygments_lexer": "ipython3",
   "version": "3.11.4"
  }
 },
 "nbformat": 4,
 "nbformat_minor": 5
}
