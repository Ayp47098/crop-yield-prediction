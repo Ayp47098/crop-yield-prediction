{
 "cells": [
  {
   "cell_type": "code",
   "execution_count": 211,
   "id": "bc3008b1",
   "metadata": {},
   "outputs": [],
   "source": [
    "import pandas as pd\n",
    "import numpy as np\n",
    "from sklearn.model_selection import train_test_split\n",
    "from sklearn.preprocessing import LabelEncoder, StandardScaler\n",
    "from sklearn.metrics import mean_absolute_error, mean_squared_error, r2_score\n",
    "import xgboost as xgb\n",
    "import joblib"
   ]
  },
  {
   "cell_type": "code",
   "execution_count": 212,
   "id": "5dc8e487",
   "metadata": {},
   "outputs": [],
   "source": [
    "# Load dataset (replace with your crop dataset)\n",
    "data = pd.read_csv(\"D:/RBL PROJECT/Crop--Prediction-ML--main/CP/datasets/crop_production.csv\")  # Example dataset"
   ]
  },
  {
   "cell_type": "code",
   "execution_count": 213,
   "id": "4a701d1c",
   "metadata": {},
   "outputs": [
    {
     "name": "stdout",
     "output_type": "stream",
     "text": [
      "Remaining rows after cleaning: 242361\n"
     ]
    }
   ],
   "source": [
    "# Data Cleaning\n",
    "data_clean = data.replace([np.inf, -np.inf], np.nan).dropna(subset=['Production'])\n",
    "print(f\"Remaining rows after cleaning: {len(data_clean)}\")"
   ]
  },
  {
   "cell_type": "code",
   "execution_count": 214,
   "id": "f530af9b",
   "metadata": {},
   "outputs": [],
   "source": [
    "# Feature Engineering\n",
    "X = data_clean[['State_Name', 'District_Name', 'Crop_Year', 'Season', 'Crop', 'Area']]\n",
    "y = data_clean['Production']"
   ]
  },
  {
   "cell_type": "code",
   "execution_count": 215,
   "id": "fbaffd7e",
   "metadata": {},
   "outputs": [
    {
     "name": "stderr",
     "output_type": "stream",
     "text": [
      "C:\\Users\\Ayush\\AppData\\Local\\Temp\\ipykernel_12900\\3689410716.py:5: SettingWithCopyWarning: \n",
      "A value is trying to be set on a copy of a slice from a DataFrame.\n",
      "Try using .loc[row_indexer,col_indexer] = value instead\n",
      "\n",
      "See the caveats in the documentation: https://pandas.pydata.org/pandas-docs/stable/user_guide/indexing.html#returning-a-view-versus-a-copy\n",
      "  X[column] = le.fit_transform(X[column])\n",
      "C:\\Users\\Ayush\\AppData\\Local\\Temp\\ipykernel_12900\\3689410716.py:5: SettingWithCopyWarning: \n",
      "A value is trying to be set on a copy of a slice from a DataFrame.\n",
      "Try using .loc[row_indexer,col_indexer] = value instead\n",
      "\n",
      "See the caveats in the documentation: https://pandas.pydata.org/pandas-docs/stable/user_guide/indexing.html#returning-a-view-versus-a-copy\n",
      "  X[column] = le.fit_transform(X[column])\n",
      "C:\\Users\\Ayush\\AppData\\Local\\Temp\\ipykernel_12900\\3689410716.py:5: SettingWithCopyWarning: \n",
      "A value is trying to be set on a copy of a slice from a DataFrame.\n",
      "Try using .loc[row_indexer,col_indexer] = value instead\n",
      "\n",
      "See the caveats in the documentation: https://pandas.pydata.org/pandas-docs/stable/user_guide/indexing.html#returning-a-view-versus-a-copy\n",
      "  X[column] = le.fit_transform(X[column])\n",
      "C:\\Users\\Ayush\\AppData\\Local\\Temp\\ipykernel_12900\\3689410716.py:5: SettingWithCopyWarning: \n",
      "A value is trying to be set on a copy of a slice from a DataFrame.\n",
      "Try using .loc[row_indexer,col_indexer] = value instead\n",
      "\n",
      "See the caveats in the documentation: https://pandas.pydata.org/pandas-docs/stable/user_guide/indexing.html#returning-a-view-versus-a-copy\n",
      "  X[column] = le.fit_transform(X[column])\n"
     ]
    }
   ],
   "source": [
    "# Encode categorical columns\n",
    "label_encoders = {}\n",
    "for column in ['State_Name', 'District_Name', 'Season', 'Crop']:\n",
    "    le = LabelEncoder()\n",
    "    X[column] = le.fit_transform(X[column])\n",
    "    label_encoders[column] = le"
   ]
  },
  {
   "cell_type": "code",
   "execution_count": 216,
   "id": "153d4ea4",
   "metadata": {},
   "outputs": [],
   "source": [
    "# Train-test split\n",
    "X_train, X_test, y_train, y_test = train_test_split(X, y, test_size=0.2, random_state=42)\n"
   ]
  },
  {
   "cell_type": "code",
   "execution_count": 217,
   "id": "56ec6039",
   "metadata": {},
   "outputs": [],
   "source": [
    "# Feature Scaling\n",
    "scaler = StandardScaler()\n",
    "X_train_scaled = scaler.fit_transform(X_train)\n",
    "X_test_scaled = scaler.transform(X_test)\n",
    "\n",
    "# XGBoost Model\n",
    "model = xgb.XGBRegressor(\n",
    "    objective='reg:squarederror',\n",
    "    n_estimators=200,\n",
    "    max_depth=6,\n",
    "    learning_rate=0.05,\n",
    "    subsample=0.8,\n",
    "    colsample_bytree=0.8,\n",
    "    random_state=42\n",
    ")"
   ]
  },
  {
   "cell_type": "code",
   "execution_count": 218,
   "id": "46aea9e3",
   "metadata": {},
   "outputs": [
    {
     "name": "stdout",
     "output_type": "stream",
     "text": [
      "MAE: 289099.49\n",
      "RMSE: 5816936.31\n",
      "R²: 0.92\n"
     ]
    }
   ],
   "source": [
    "# Train model\n",
    "model.fit(X_train_scaled, y_train)\n",
    "\n",
    "# Evaluation\n",
    "y_pred = model.predict(X_test_scaled)\n",
    "print(f\"MAE: {mean_absolute_error(y_test, y_pred):.2f}\")\n",
    "print(f\"RMSE: {np.sqrt(mean_squared_error(y_test, y_pred)):.2f}\")\n",
    "print(f\"R²: {r2_score(y_test, y_pred):.2f}\")\n"
   ]
  },
  {
   "cell_type": "code",
   "execution_count": 219,
   "id": "cf3a5b54",
   "metadata": {},
   "outputs": [
    {
     "data": {
      "text/plain": [
       "['scaler.joblib']"
      ]
     },
     "execution_count": 219,
     "metadata": {},
     "output_type": "execute_result"
    }
   ],
   "source": [
    "# Save artifacts\n",
    "joblib.dump(model, \"xgboost_production_model.joblib\")\n",
    "joblib.dump(label_encoders, \"label_encoders.joblib\")\n",
    "joblib.dump(scaler, \"scaler.joblib\")"
   ]
  },
  {
   "cell_type": "code",
   "execution_count": 220,
   "id": "171fefc2",
   "metadata": {},
   "outputs": [],
   "source": [
    "# Crop Recommendation Function\n",
    "def recommend_best_crop(state, district, year, season, area):\n",
    "    \"\"\"Predicts production for all crops and recommends the best one\"\"\"\n",
    "    # Get unique crops\n",
    "    unique_crops = data_clean['Crop'].unique()\n",
    "    \n",
    "    # Prepare input for all crops\n",
    "    test_data = pd.DataFrame({\n",
    "        'State_Name': [state] * len(unique_crops),\n",
    "        'District_Name': [district] * len(unique_crops),\n",
    "        'Crop_Year': [year] * len(unique_crops),\n",
    "        'Season': [season] * len(unique_crops),\n",
    "        'Crop': unique_crops,\n",
    "        'Area': [area] * len(unique_crops)\n",
    "    })"
   ]
  },
  {
   "cell_type": "code",
   "execution_count": 221,
   "id": "39f8b95c",
   "metadata": {},
   "outputs": [
    {
     "ename": "NameError",
     "evalue": "name 'test_data' is not defined",
     "output_type": "error",
     "traceback": [
      "\u001b[31m---------------------------------------------------------------------------\u001b[39m",
      "\u001b[31mNameError\u001b[39m                                 Traceback (most recent call last)",
      "\u001b[36mCell\u001b[39m\u001b[36m \u001b[39m\u001b[32mIn[221]\u001b[39m\u001b[32m, line 4\u001b[39m\n\u001b[32m      2\u001b[39m \u001b[38;5;28;01mfor\u001b[39;00m column \u001b[38;5;129;01min\u001b[39;00m [\u001b[33m'\u001b[39m\u001b[33mState_Name\u001b[39m\u001b[33m'\u001b[39m, \u001b[33m'\u001b[39m\u001b[33mDistrict_Name\u001b[39m\u001b[33m'\u001b[39m, \u001b[33m'\u001b[39m\u001b[33mSeason\u001b[39m\u001b[33m'\u001b[39m, \u001b[33m'\u001b[39m\u001b[33mCrop\u001b[39m\u001b[33m'\u001b[39m]:\n\u001b[32m      3\u001b[39m     le = label_encoders[column]\n\u001b[32m----> \u001b[39m\u001b[32m4\u001b[39m     test_data[column] = \u001b[43mtest_data\u001b[49m[column].apply(\n\u001b[32m      5\u001b[39m         \u001b[38;5;28;01mlambda\u001b[39;00m x: x \u001b[38;5;28;01mif\u001b[39;00m x \u001b[38;5;129;01min\u001b[39;00m le.classes_ \u001b[38;5;28;01melse\u001b[39;00m \u001b[33m'\u001b[39m\u001b[33munknown\u001b[39m\u001b[33m'\u001b[39m\n\u001b[32m      6\u001b[39m     )\n\u001b[32m      7\u001b[39m     test_data[column] = le.transform(test_data[column])\n\u001b[32m      9\u001b[39m test_scaled = scaler.transform(test_data)\n",
      "\u001b[31mNameError\u001b[39m: name 'test_data' is not defined"
     ]
    }
   ],
   "source": [
    " # Encode and scale\n",
    "for column in ['State_Name', 'District_Name', 'Season', 'Crop']:\n",
    "    le = label_encoders[column]\n",
    "    test_data[column] = test_data[column].apply(\n",
    "        lambda x: x if x in le.classes_ else 'unknown'\n",
    "    )\n",
    "    test_data[column] = le.transform(test_data[column])\n",
    "    \n",
    "test_scaled = scaler.transform(test_data)"
   ]
  },
  {
   "cell_type": "code",
   "execution_count": null,
   "id": "cc5f5167",
   "metadata": {},
   "outputs": [],
   "source": [
    " # Predict production for all crops\n",
    "    predictions = model.predict(test_scaled)\n",
    "    \n",
    "    # Create results dataframe\n",
    "    results = pd.DataFrame({\n",
    "        'Crop': unique_crops,\n",
    "        'Predicted_Production': predictions\n",
    "    })"
   ]
  },
  {
   "cell_type": "code",
   "execution_count": null,
   "id": "453c70ee",
   "metadata": {},
   "outputs": [
    {
     "name": "stdout",
     "output_type": "stream",
     "text": [
      "Mean Absolute Error (MAE): 289099.49\n",
      "Root Mean Squared Error (RMSE): 5816936.31\n",
      "R² Score: 0.92\n"
     ]
    }
   ],
   "source": [
    "# Sort by predicted production (descending)\n",
    "    results = results.sort_values('Predicted_Production', ascending=False)\n",
    "    \n",
    "    return results"
   ]
  },
  {
   "cell_type": "code",
   "execution_count": null,
   "id": "865973f7",
   "metadata": {},
   "outputs": [
    {
     "name": "stdout",
     "output_type": "stream",
     "text": [
      "Model saved successfully!\n"
     ]
    }
   ],
   "source": [
    "# Example Usage\n",
    "if __name__ == \"__main__\":\n",
    "    # Example prediction\n",
    "    test_input = pd.DataFrame({\n",
    "        'State_Name': ['Punjab'],\n",
    "        'District_Name': ['Amritsar'],\n",
    "        'Crop_Year': [2023],\n",
    "        'Season': ['Kharif'],\n",
    "        'Crop': ['Rice'],\n",
    "        'Area': [5000]\n",
    "    })\n",
    "    "
   ]
  },
  {
   "cell_type": "code",
   "execution_count": null,
   "id": "80f29cf9",
   "metadata": {},
   "outputs": [],
   "source": [
    " # Single prediction\n",
    "    for column in ['State_Name', 'District_Name', 'Season', 'Crop']:\n",
    "        le = label_encoders[column]\n",
    "        test_input[column] = test_input[column].apply(\n",
    "            lambda x: x if x in le.classes_ else 'unknown'\n",
    "        )\n",
    "        test_input[column] = le.transform(test_input[column])\n",
    "    \n",
    "    test_scaled = scaler.transform(test_input)\n",
    "    prediction = model.predict(test_scaled)\n",
    "    print(f\"\\nPredicted Production for Rice: {prediction[0]:.2f} units\")"
   ]
  },
  {
   "cell_type": "code",
   "execution_count": null,
   "id": "b3b53f52",
   "metadata": {},
   "outputs": [],
   "source": [
    "# Crop recommendation\n",
    "    recommendations = recommend_best_crop(\n",
    "        state='Punjab',\n",
    "        district='Amritsar',\n",
    "        year=2023,\n",
    "        season='Kharif',\n",
    "        area=5000\n",
    "    )\n",
    "    \n",
    "    print(\"\\nTop 5 Crop Recommendations:\")\n",
    "    print(recommendations.head(5).to_string(index=False))"
   ]
  }
 ],
 "metadata": {
  "kernelspec": {
   "display_name": "Python 3",
   "language": "python",
   "name": "python3"
  },
  "language_info": {
   "codemirror_mode": {
    "name": "ipython",
    "version": 3
   },
   "file_extension": ".py",
   "mimetype": "text/x-python",
   "name": "python",
   "nbconvert_exporter": "python",
   "pygments_lexer": "ipython3",
   "version": "3.11.4"
  }
 },
 "nbformat": 4,
 "nbformat_minor": 5
}
